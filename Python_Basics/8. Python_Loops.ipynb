{
 "cells": [
  {
   "cell_type": "markdown",
   "metadata": {},
   "source": [
    "## Conditionals"
   ]
  },
  {
   "cell_type": "code",
   "execution_count": 1,
   "metadata": {},
   "outputs": [
    {
     "name": "stdout",
     "output_type": "stream",
     "text": [
      "condiotion is true\n"
     ]
    }
   ],
   "source": [
    "if True:\n",
    "    print(\"condiotion is true\")"
   ]
  },
  {
   "cell_type": "code",
   "execution_count": 2,
   "metadata": {},
   "outputs": [],
   "source": [
    "if False:\n",
    "    print(\"condition is true\")"
   ]
  },
  {
   "cell_type": "code",
   "execution_count": 4,
   "metadata": {},
   "outputs": [
    {
     "name": "stdout",
     "output_type": "stream",
     "text": [
      "no match\n"
     ]
    }
   ],
   "source": [
    "language = \"java\"\n",
    "\n",
    "if language == \"python\":\n",
    "    print(\"true\")\n",
    "    \n",
    "else:\n",
    "    print(\"no match\")"
   ]
  },
  {
   "cell_type": "code",
   "execution_count": 6,
   "metadata": {},
   "outputs": [
    {
     "name": "stdout",
     "output_type": "stream",
     "text": [
      "yes it is java\n"
     ]
    }
   ],
   "source": [
    "if language == \"python\":\n",
    "    print(\"it is python\")\n",
    "    \n",
    "elif language == \"java\":\n",
    "    print(\"yes it is java\")\n",
    "    \n",
    "else:\n",
    "    print(\"no match\")"
   ]
  },
  {
   "cell_type": "code",
   "execution_count": 11,
   "metadata": {},
   "outputs": [
    {
     "name": "stdout",
     "output_type": "stream",
     "text": [
      "invalid creds\n"
     ]
    }
   ],
   "source": [
    "user = \"admin\"\n",
    "logged_in = False\n",
    "\n",
    "if user == \"admin\" and logged_in == True:\n",
    "    print(\"admin_page\")\n",
    "    \n",
    "else:\n",
    "    print(\"invalid creds\")"
   ]
  },
  {
   "cell_type": "code",
   "execution_count": 12,
   "metadata": {},
   "outputs": [
    {
     "name": "stdout",
     "output_type": "stream",
     "text": [
      "admin_page\n"
     ]
    }
   ],
   "source": [
    "user = \"admin\"\n",
    "logged_in = False\n",
    "\n",
    "if user == \"admin\" or logged_in == True:\n",
    "    print(\"admin_page\")\n",
    "    \n",
    "else:\n",
    "    print(\"invalid creds\")"
   ]
  },
  {
   "cell_type": "code",
   "execution_count": 15,
   "metadata": {},
   "outputs": [
    {
     "name": "stdout",
     "output_type": "stream",
     "text": [
      "please log in\n"
     ]
    }
   ],
   "source": [
    "user = \"admin\"\n",
    "logged_in = False\n",
    "\n",
    "if not logged_in:\n",
    "    print(\"please log in\")\n",
    "    \n",
    "else:\n",
    "    print(\"invalid creds\")"
   ]
  },
  {
   "cell_type": "code",
   "execution_count": 17,
   "metadata": {},
   "outputs": [
    {
     "name": "stdout",
     "output_type": "stream",
     "text": [
      "they are not same\n"
     ]
    }
   ],
   "source": [
    "a=[1,2,3]\n",
    "b=[1,2,3]\n",
    "\n",
    "if a is b:\n",
    "    print(\"a has same location as b\")\n",
    "else:\n",
    "    print(\"they are not same\")"
   ]
  },
  {
   "cell_type": "code",
   "execution_count": 19,
   "metadata": {},
   "outputs": [
    {
     "name": "stdout",
     "output_type": "stream",
     "text": [
      "a has same location as b\n",
      "1987515347136\n",
      "1987515347136\n",
      "True\n"
     ]
    }
   ],
   "source": [
    "a=[1,2,3]\n",
    "b=a\n",
    "\n",
    "if a is b:\n",
    "    print(\"a has same location as b\")\n",
    "else:\n",
    "    print(\"they are not same\")\n",
    "print(id(a))\n",
    "print(id(b))\n",
    "print(a is b)"
   ]
  },
  {
   "cell_type": "markdown",
   "metadata": {},
   "source": [
    "False values :\n",
    "    #False\n",
    "    #none\n",
    "    #zero of any numeric type\n",
    "    #any empty sequence eg= \"\", (), []\n",
    "    #empty mapping eg {}\n"
   ]
  },
  {
   "cell_type": "code",
   "execution_count": 20,
   "metadata": {},
   "outputs": [
    {
     "name": "stdout",
     "output_type": "stream",
     "text": [
      "evaluate to false\n"
     ]
    }
   ],
   "source": [
    "condition = False\n",
    "\n",
    "if condition:\n",
    "    print(\"evaluate to true\")\n",
    "else:\n",
    "    print(\"evaluate to false\")"
   ]
  },
  {
   "cell_type": "code",
   "execution_count": 21,
   "metadata": {},
   "outputs": [
    {
     "name": "stdout",
     "output_type": "stream",
     "text": [
      "evaluate to true\n"
     ]
    }
   ],
   "source": [
    "condition = True\n",
    "\n",
    "if condition:\n",
    "    print(\"evaluate to true\")\n",
    "else:\n",
    "    print(\"evaluate to false\")"
   ]
  },
  {
   "cell_type": "code",
   "execution_count": 22,
   "metadata": {},
   "outputs": [
    {
     "name": "stdout",
     "output_type": "stream",
     "text": [
      "evaluate to false\n"
     ]
    }
   ],
   "source": [
    "condition = {}\n",
    "\n",
    "if condition:\n",
    "    print(\"evaluate to true\")\n",
    "else:\n",
    "    print(\"evaluate to false\")"
   ]
  },
  {
   "cell_type": "code",
   "execution_count": 23,
   "metadata": {},
   "outputs": [
    {
     "name": "stdout",
     "output_type": "stream",
     "text": [
      "evaluate to false\n"
     ]
    }
   ],
   "source": [
    "condition = []\n",
    "\n",
    "if condition:\n",
    "    print(\"evaluate to true\")\n",
    "else:\n",
    "    print(\"evaluate to false\")"
   ]
  },
  {
   "cell_type": "code",
   "execution_count": 24,
   "metadata": {},
   "outputs": [
    {
     "name": "stdout",
     "output_type": "stream",
     "text": [
      "evaluate to false\n"
     ]
    }
   ],
   "source": [
    "condition = 0\n",
    "\n",
    "if condition:\n",
    "    print(\"evaluate to true\")\n",
    "else:\n",
    "    print(\"evaluate to false\")"
   ]
  },
  {
   "cell_type": "code",
   "execution_count": 25,
   "metadata": {},
   "outputs": [
    {
     "name": "stdout",
     "output_type": "stream",
     "text": [
      "evaluate to false\n"
     ]
    }
   ],
   "source": [
    "condition = ()\n",
    "\n",
    "if condition:\n",
    "    print(\"evaluate to true\")\n",
    "else:\n",
    "    print(\"evaluate to false\")"
   ]
  },
  {
   "cell_type": "code",
   "execution_count": 27,
   "metadata": {},
   "outputs": [
    {
     "name": "stdout",
     "output_type": "stream",
     "text": [
      "evaluate to false\n"
     ]
    }
   ],
   "source": [
    "condition = None\n",
    "\n",
    "if condition:\n",
    "    print(\"evaluate to true\")\n",
    "else:\n",
    "    print(\"evaluate to false\")"
   ]
  },
  {
   "cell_type": "code",
   "execution_count": 28,
   "metadata": {},
   "outputs": [
    {
     "name": "stdout",
     "output_type": "stream",
     "text": [
      "evaluate to true\n"
     ]
    }
   ],
   "source": [
    "condition = 12\n",
    "\n",
    "if condition:\n",
    "    print(\"evaluate to true\")\n",
    "else:\n",
    "    print(\"evaluate to false\")"
   ]
  },
  {
   "cell_type": "code",
   "execution_count": 29,
   "metadata": {},
   "outputs": [
    {
     "name": "stdout",
     "output_type": "stream",
     "text": [
      "evaluate to true\n"
     ]
    }
   ],
   "source": [
    "condition = 45.65\n",
    "\n",
    "if condition:\n",
    "    print(\"evaluate to true\")\n",
    "else:\n",
    "    print(\"evaluate to false\")"
   ]
  },
  {
   "cell_type": "code",
   "execution_count": 30,
   "metadata": {},
   "outputs": [
    {
     "name": "stdout",
     "output_type": "stream",
     "text": [
      "evaluate to true\n"
     ]
    }
   ],
   "source": [
    "condition = \"bnb\"\n",
    "\n",
    "if condition:\n",
    "    print(\"evaluate to true\")\n",
    "else:\n",
    "    print(\"evaluate to false\")"
   ]
  },
  {
   "cell_type": "markdown",
   "metadata": {},
   "source": [
    "## Loops"
   ]
  },
  {
   "cell_type": "code",
   "execution_count": 43,
   "metadata": {},
   "outputs": [
    {
     "name": "stdout",
     "output_type": "stream",
     "text": [
      "0 1\n",
      "1 2\n",
      "2 3\n",
      "3 4\n",
      "4 5\n",
      "5 6\n",
      "6 7\n",
      "7 8\n",
      "8 9\n"
     ]
    }
   ],
   "source": [
    "num = [1,2,3,4,5,6,7,8,9]\n",
    "\n",
    "for index,num in enumerate(num):\n",
    "    print(index, num)"
   ]
  },
  {
   "cell_type": "code",
   "execution_count": 51,
   "metadata": {},
   "outputs": [
    {
     "name": "stdout",
     "output_type": "stream",
     "text": [
      "1\n",
      "2\n",
      "3\n",
      "4\n",
      "found\n",
      "encountered the break\n"
     ]
    }
   ],
   "source": [
    "mylist = [1,2,3,4,5,6,7,8,9,10]\n",
    "\n",
    "for num in mylist:\n",
    "    \n",
    "    if num == 5:\n",
    "        print(\"found\")\n",
    "        break\n",
    "    print(num)\n",
    "\n",
    "print(\"encountered the break\")"
   ]
  },
  {
   "cell_type": "code",
   "execution_count": 53,
   "metadata": {},
   "outputs": [
    {
     "name": "stdout",
     "output_type": "stream",
     "text": [
      "1\n",
      "2\n",
      "3\n",
      "4\n",
      "found\n",
      "6\n",
      "7\n",
      "8\n",
      "9\n",
      "10\n",
      "end of for loop\n"
     ]
    }
   ],
   "source": [
    "for num in mylist:\n",
    "    \n",
    "    if num == 5:\n",
    "        print(\"found\")\n",
    "        continue\n",
    "    print(num)\n",
    "\n",
    "print(\"end of for loop\")"
   ]
  },
  {
   "cell_type": "code",
   "execution_count": 59,
   "metadata": {},
   "outputs": [
    {
     "name": "stdout",
     "output_type": "stream",
     "text": [
      "1 M\n",
      "1 a\n",
      "1 n\n",
      "1 t\n",
      "1 h\n",
      "1 a\n",
      "1 n\n",
      "2 M\n",
      "2 a\n",
      "2 n\n",
      "2 t\n",
      "2 h\n",
      "2 a\n",
      "2 n\n",
      "3 M\n",
      "3 a\n",
      "3 n\n",
      "3 t\n",
      "3 h\n",
      "3 a\n",
      "3 n\n",
      "4 M\n",
      "4 a\n",
      "4 n\n",
      "4 t\n",
      "4 h\n",
      "4 a\n",
      "4 n\n",
      "6 M\n",
      "6 a\n",
      "6 n\n",
      "6 t\n",
      "6 h\n",
      "6 a\n",
      "6 n\n",
      "7 M\n",
      "7 a\n",
      "7 n\n",
      "7 t\n",
      "7 h\n",
      "7 a\n",
      "7 n\n",
      "8 M\n",
      "8 a\n",
      "8 n\n",
      "8 t\n",
      "8 h\n",
      "8 a\n",
      "8 n\n",
      "9 M\n",
      "9 a\n",
      "9 n\n",
      "9 t\n",
      "9 h\n",
      "9 a\n",
      "9 n\n",
      "10 M\n",
      "10 a\n",
      "10 n\n",
      "10 t\n",
      "10 h\n",
      "10 a\n",
      "10 n\n"
     ]
    }
   ],
   "source": [
    "\n",
    "for num in mylist:\n",
    "    for a in \"Manthan\":\n",
    "        if num ==5:\n",
    "            break\n",
    "        print(num, a)"
   ]
  },
  {
   "cell_type": "code",
   "execution_count": 60,
   "metadata": {},
   "outputs": [
    {
     "name": "stdout",
     "output_type": "stream",
     "text": [
      "1 M\n",
      "1 a\n",
      "1 n\n",
      "1 t\n",
      "1 h\n",
      "1 a\n",
      "1 n\n",
      "2 M\n",
      "2 a\n",
      "2 n\n",
      "2 t\n",
      "2 h\n",
      "2 a\n",
      "2 n\n",
      "3 M\n",
      "3 a\n",
      "3 n\n",
      "3 t\n",
      "3 h\n",
      "3 a\n",
      "3 n\n",
      "4 M\n",
      "4 a\n",
      "4 n\n",
      "4 t\n",
      "4 h\n",
      "4 a\n",
      "4 n\n",
      "5 a\n",
      "5 n\n",
      "5 t\n",
      "5 h\n",
      "5 a\n",
      "5 n\n",
      "6 M\n",
      "6 a\n",
      "6 n\n",
      "6 t\n",
      "6 h\n",
      "6 a\n",
      "6 n\n",
      "7 M\n",
      "7 a\n",
      "7 n\n",
      "7 t\n",
      "7 h\n",
      "7 a\n",
      "7 n\n",
      "8 M\n",
      "8 a\n",
      "8 n\n",
      "8 t\n",
      "8 h\n",
      "8 a\n",
      "8 n\n",
      "9 M\n",
      "9 a\n",
      "9 n\n",
      "9 t\n",
      "9 h\n",
      "9 a\n",
      "9 n\n",
      "10 M\n",
      "10 a\n",
      "10 n\n",
      "10 t\n",
      "10 h\n",
      "10 a\n",
      "10 n\n"
     ]
    }
   ],
   "source": [
    "\n",
    "for num in mylist:\n",
    "    for a in \"Manthan\":\n",
    "        if num ==5 and a==\"M\" :\n",
    "            continue\n",
    "        print(num, a)"
   ]
  },
  {
   "cell_type": "code",
   "execution_count": 64,
   "metadata": {},
   "outputs": [
    {
     "name": "stdout",
     "output_type": "stream",
     "text": [
      "0\n",
      "1\n",
      "2\n",
      "3\n",
      "4\n",
      "5\n",
      "6\n",
      "7\n",
      "8\n",
      "9\n"
     ]
    }
   ],
   "source": [
    "for i in range(0, 10, 1):\n",
    "    print(i)"
   ]
  },
  {
   "cell_type": "code",
   "execution_count": 66,
   "metadata": {},
   "outputs": [
    {
     "name": "stdout",
     "output_type": "stream",
     "text": [
      "0\n",
      "1\n",
      "2\n",
      "3\n",
      "4\n",
      "5\n",
      "6\n",
      "7\n",
      "8\n",
      "9\n"
     ]
    }
   ],
   "source": [
    "x=0\n",
    "while x<10:\n",
    "    print(x)\n",
    "    x+=1"
   ]
  },
  {
   "cell_type": "code",
   "execution_count": 1,
   "metadata": {},
   "outputs": [
    {
     "name": "stdout",
     "output_type": "stream",
     "text": [
      "0\n",
      "1\n",
      "2\n",
      "3\n",
      "4\n"
     ]
    }
   ],
   "source": [
    "x=0\n",
    "while True:\n",
    "    if x==5:\n",
    "        break\n",
    "    print(x)\n",
    "    x+=1"
   ]
  },
  {
   "cell_type": "code",
   "execution_count": null,
   "metadata": {},
   "outputs": [],
   "source": []
  }
 ],
 "metadata": {
  "kernelspec": {
   "display_name": "Python 3",
   "language": "python",
   "name": "python3"
  },
  "language_info": {
   "codemirror_mode": {
    "name": "ipython",
    "version": 3
   },
   "file_extension": ".py",
   "mimetype": "text/x-python",
   "name": "python",
   "nbconvert_exporter": "python",
   "pygments_lexer": "ipython3",
   "version": "3.8.3"
  }
 },
 "nbformat": 4,
 "nbformat_minor": 4
}
