{
 "cells": [
  {
   "cell_type": "markdown",
   "metadata": {},
   "source": [
    "## Functions"
   ]
  },
  {
   "cell_type": "markdown",
   "metadata": {},
   "source": [
    "declaration of a function"
   ]
  },
  {
   "cell_type": "code",
   "execution_count": 9,
   "metadata": {},
   "outputs": [
    {
     "name": "stdout",
     "output_type": "stream",
     "text": [
      "hello python\n",
      "1234567989\n"
     ]
    }
   ],
   "source": [
    "def hello_func():\n",
    "    print(\"hello python\")\n",
    "    return 1234567989\n",
    "\n",
    "print(hello_func())"
   ]
  },
  {
   "cell_type": "code",
   "execution_count": 18,
   "metadata": {},
   "outputs": [
    {
     "name": "stdout",
     "output_type": "stream",
     "text": [
      "HELLO PYTHON\n"
     ]
    }
   ],
   "source": [
    "\n",
    "def hello_func():\n",
    "    \n",
    "    return \"hello python\"\n",
    "\n",
    "print(hello_func().upper())"
   ]
  },
  {
   "cell_type": "code",
   "execution_count": 30,
   "metadata": {},
   "outputs": [
    {
     "name": "stdout",
     "output_type": "stream",
     "text": [
      "hi MANTHAN\n"
     ]
    }
   ],
   "source": [
    "def transform_func(name):\n",
    "    return \"hi {}\".format(name.upper())\n",
    "    \n",
    "print(transform_func(\"manthan\"))"
   ]
  },
  {
   "cell_type": "code",
   "execution_count": 33,
   "metadata": {},
   "outputs": [
    {
     "name": "stdout",
     "output_type": "stream",
     "text": [
      "hello MANTHAN\n"
     ]
    }
   ],
   "source": [
    "def hello_func(greetings, name = \"manthan\"):\n",
    "    return \"{} {}\".format(greetings, name.upper())\n",
    "print(hello_func(\"hello\", \"Manthan\"))"
   ]
  },
  {
   "cell_type": "code",
   "execution_count": 35,
   "metadata": {},
   "outputs": [
    {
     "name": "stdout",
     "output_type": "stream",
     "text": [
      "hello DEFAULT\n"
     ]
    }
   ],
   "source": [
    "def hello_func(greetings, name = \"default\"):\n",
    "    return \"{} {}\".format(greetings, name.upper())\n",
    "print(hello_func(\"hello\"))"
   ]
  },
  {
   "cell_type": "code",
   "execution_count": 38,
   "metadata": {},
   "outputs": [
    {
     "name": "stdout",
     "output_type": "stream",
     "text": [
      "30\n"
     ]
    }
   ],
   "source": [
    "month_days  = [0,31,28,31,30,31,30,31,30,31,30,31,30]\n",
    "\n",
    "\n",
    "def is_leapyear(year):\n",
    "    \n",
    "    return year%4 == 0 and (year%100 != 0 or year%400 ==0)\n",
    "\n",
    "    \n",
    "def days_in_month(year, month):\n",
    "    \n",
    "    if not 1<=month<=12:\n",
    "        return \"invalid month\"\n",
    "    \n",
    "    if month == 2 and is_leapyear(year):\n",
    "        return 29\n",
    "    \n",
    "    return month_days[month]\n",
    "\n",
    "print(days_in_month(2020, 12))"
   ]
  },
  {
   "cell_type": "code",
   "execution_count": null,
   "metadata": {},
   "outputs": [],
   "source": []
  }
 ],
 "metadata": {
  "kernelspec": {
   "display_name": "Python 3",
   "language": "python",
   "name": "python3"
  },
  "language_info": {
   "codemirror_mode": {
    "name": "ipython",
    "version": 3
   },
   "file_extension": ".py",
   "mimetype": "text/x-python",
   "name": "python",
   "nbconvert_exporter": "python",
   "pygments_lexer": "ipython3",
   "version": "3.8.3"
  }
 },
 "nbformat": 4,
 "nbformat_minor": 4
}
